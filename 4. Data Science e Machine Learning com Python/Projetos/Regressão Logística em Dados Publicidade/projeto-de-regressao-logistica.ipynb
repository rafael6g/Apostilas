{
 "cells": [
  {
   "cell_type": "markdown",
   "metadata": {},
   "source": [
    "# Projeto de Regressão Logística\n",
    "\n",
    "\n",
    "Neste projeto estaremos trabalhando com um conjunto de dados falso de publicidade, indicando se um usuário de internet específico clicou ou não em uma propaganda. Vamos tentar criar um modelo que preveja se clicará ou não em um anúncio baseado nos dados desse usuário.\n",
    "\n",
    "Este conjunto de dados contém os seguintes recursos:\n",
    "\n",
    "* 'Daily Time Spent on Site': tempo no site em minutos.\n",
    "* 'Age': idade do consumidor.\n",
    "* 'Area Income': Média da renda do consumidor na região.\n",
    "* 'Daily Internet Usage': Média em minutos por di que o consumidor está na internet.\n",
    "* 'Linha do tópico do anúncio': Título do anúncio.\n",
    "* 'City': Cidade do consumidor.\n",
    "* 'Male': Se o consumidor era ou não masculino.\n",
    "* 'Country': País do consumidor.\n",
    "* 'Timestamp': hora em que o consumidor clicou no anúncio ou janela fechada.\n",
    "* 'Clicked on Ad'': 0 ou 1 indicam se clicou ou não no anúncio.\n",
    "\n",
    "## Importar bibliotecas\n",
    "\n",
    "** Importe algumas bibliotecas que você acha que você precisará **"
   ]
  },
  {
   "cell_type": "code",
   "execution_count": null,
   "metadata": {},
   "outputs": [],
   "source": []
  },
  {
   "cell_type": "markdown",
   "metadata": {},
   "source": [
    "## Obter dados\n",
    "** Leia o arquivo advertising.csv e grave-o em um DataFrame chamado ad_data. **"
   ]
  },
  {
   "cell_type": "code",
   "execution_count": null,
   "metadata": {},
   "outputs": [],
   "source": []
  },
  {
   "cell_type": "markdown",
   "metadata": {},
   "source": [
    "** Verifique o cabeçalho do ad_data **"
   ]
  },
  {
   "cell_type": "code",
   "execution_count": null,
   "metadata": {},
   "outputs": [],
   "source": []
  },
  {
   "cell_type": "markdown",
   "metadata": {},
   "source": [
    "** Use info() e describe() em ad_data **"
   ]
  },
  {
   "cell_type": "code",
   "execution_count": null,
   "metadata": {},
   "outputs": [],
   "source": []
  },
  {
   "cell_type": "markdown",
   "metadata": {},
   "source": [
    "## Análise de dados exploratória\n",
    "\n",
    "Vamos usar Seaborn para explorar os dados!\n",
    "\n",
    "Tente recriar os gráficos abaixo.\n",
    "\n",
    "** Crie um histograma de \"Age\" **"
   ]
  },
  {
   "cell_type": "code",
   "execution_count": null,
   "metadata": {},
   "outputs": [],
   "source": []
  },
  {
   "cell_type": "markdown",
   "metadata": {},
   "source": [
    "** Crie um joinplot mostrando \"Area Income\" versus \"Age\" **"
   ]
  },
  {
   "cell_type": "code",
   "execution_count": null,
   "metadata": {},
   "outputs": [],
   "source": []
  },
  {
   "cell_type": "markdown",
   "metadata": {},
   "source": [
    "** Crie um jointplot que mostre as distribuições KDE do \"Daily Time spent\" no site vs \"Age\". **"
   ]
  },
  {
   "cell_type": "code",
   "execution_count": null,
   "metadata": {},
   "outputs": [],
   "source": []
  },
  {
   "cell_type": "markdown",
   "metadata": {},
   "source": [
    "** Crie um jointplot do 'Daily Time Spent on Site' vs. 'Daily Internet Usage'**"
   ]
  },
  {
   "cell_type": "code",
   "execution_count": null,
   "metadata": {},
   "outputs": [],
   "source": []
  },
  {
   "cell_type": "markdown",
   "metadata": {},
   "source": [
    "** Finalmente, crie um parplot com o parâmetro 'hue' definido pela coluna 'Clicked on Ad'. **"
   ]
  },
  {
   "cell_type": "code",
   "execution_count": null,
   "metadata": {},
   "outputs": [],
   "source": []
  },
  {
   "cell_type": "markdown",
   "metadata": {},
   "source": [
    "\n",
    "# Regressão Logística\n",
    "\n",
    "Agora é hora de quebrar nossos dados em treino e teste e fitar nosso modelo.\n",
    "\n",
    "Você terá a liberdade aqui para escolher colunas em que deseja treinar!"
   ]
  },
  {
   "cell_type": "markdown",
   "metadata": {},
   "source": [
    "** Divida os dados em conjunto de treinamento e conjunto de testes usando train_test_split **"
   ]
  },
  {
   "cell_type": "code",
   "execution_count": null,
   "metadata": {},
   "outputs": [],
   "source": []
  },
  {
   "cell_type": "markdown",
   "metadata": {},
   "source": [
    "** Treine e ajuste um modelo de regressão logística no conjunto de treinamento. **"
   ]
  },
  {
   "cell_type": "code",
   "execution_count": null,
   "metadata": {},
   "outputs": [],
   "source": []
  },
  {
   "cell_type": "markdown",
   "metadata": {},
   "source": [
    "## Previsões e avaliações\n",
    "** Agora preveja valores para os dados de teste. **"
   ]
  },
  {
   "cell_type": "code",
   "execution_count": null,
   "metadata": {},
   "outputs": [],
   "source": []
  },
  {
   "cell_type": "markdown",
   "metadata": {},
   "source": [
    "** Crie um relatório de classificação para o modelo. **"
   ]
  },
  {
   "cell_type": "code",
   "execution_count": null,
   "metadata": {},
   "outputs": [],
   "source": []
  }
 ],
 "metadata": {
  "kernelspec": {
   "display_name": "Python 3",
   "language": "python",
   "name": "python3"
  },
  "language_info": {
   "codemirror_mode": {
    "name": "ipython",
    "version": 3
   },
   "file_extension": ".py",
   "mimetype": "text/x-python",
   "name": "python",
   "nbconvert_exporter": "python",
   "pygments_lexer": "ipython3",
   "version": "3.9.12"
  }
 },
 "nbformat": 4,
 "nbformat_minor": 4
}
