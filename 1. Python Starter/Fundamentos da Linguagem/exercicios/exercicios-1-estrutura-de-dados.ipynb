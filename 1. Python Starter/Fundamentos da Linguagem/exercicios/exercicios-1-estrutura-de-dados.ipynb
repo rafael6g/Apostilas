{
 "cells": [
  {
   "cell_type": "markdown",
   "metadata": {},
   "source": [
    "<img src=\"https://asimov.academy/wp-content/uploads/2021/01/logo.png\" width=\"200\"/>\n",
    "_____________________________________________\n",
    "\n",
    "## Exercícios #1 - Estruturas de dados\n"
   ]
  },
  {
   "cell_type": "markdown",
   "metadata": {},
   "source": [
    "### Exercício 1\n",
    "Utilizando o built-in method input(), crie um programa que receba a altura e o peso de uma pessoa e imprima na tela o IMC da mesma."
   ]
  },
  {
   "cell_type": "code",
   "execution_count": 5,
   "metadata": {},
   "outputs": [
    {
     "name": "stdout",
     "output_type": "stream",
     "text": [
      "Bem vindo a calculadora de IMC.\n",
      "Por favor, informe sua altura:\n"
     ]
    },
    {
     "name": "stdin",
     "output_type": "stream",
     "text": [
      " 1.92\n"
     ]
    },
    {
     "name": "stdout",
     "output_type": "stream",
     "text": [
      "Por favor, informe seu peso:\n"
     ]
    },
    {
     "name": "stdin",
     "output_type": "stream",
     "text": [
      " 110\n"
     ]
    },
    {
     "name": "stdout",
     "output_type": "stream",
     "text": [
      "Calculando....\n",
      "=======================\n",
      "Seu IMC é de: 29.84\n",
      "Seu IMC é de: 29.83940972222222\n"
     ]
    }
   ],
   "source": [
    "# peso / altura ** 2\n",
    "\n",
    "import time\n",
    "\n",
    "print(\"Bem vindo a calculadora de IMC.\")\n",
    "print(\"Por favor, informe sua altura:\")\n",
    "altura = float(input())\n",
    "\n",
    "print(\"Por favor, informe seu peso:\")\n",
    "peso = float(input())\n",
    "\n",
    "print(\"Calculando....\")\n",
    "time.sleep(1)\n",
    "print(\"=======================\")\n",
    "print(\"Seu IMC é de: {:.2f}\".format(peso / altura **2))\n",
    "print(\"Seu IMC é de: {}\".format(peso / altura **2))\n"
   ]
  },
  {
   "cell_type": "markdown",
   "metadata": {},
   "source": [
    "### Exercício 2 \n",
    "Escreva um programa que pergunte o nome completo do usuário e cumprimente o mesmo pelo primeiro nome."
   ]
  },
  {
   "cell_type": "code",
   "execution_count": 7,
   "metadata": {},
   "outputs": [
    {
     "name": "stdout",
     "output_type": "stream",
     "text": [
      "Informe o Nome Completo ?\n"
     ]
    },
    {
     "name": "stdin",
     "output_type": "stream",
     "text": [
      " Rafael Fernandes\n"
     ]
    },
    {
     "name": "stdout",
     "output_type": "stream",
     "text": [
      "\n",
      "\n",
      "Ola, Rafael.\n"
     ]
    }
   ],
   "source": [
    "print(\"Informe o Nome Completo ?\")\n",
    "nome=input()\n",
    "primeiro_nome = nome.split()[0]\n",
    "print(\"\\n\")\n",
    "print(\"Ola, {}.\".format(primeiro_nome))"
   ]
  },
  {
   "cell_type": "markdown",
   "metadata": {},
   "source": [
    "### Exercício 3\n",
    "Desenho um código que extraia o domínio de um e-mail informado."
   ]
  },
  {
   "cell_type": "code",
   "execution_count": 8,
   "metadata": {},
   "outputs": [
    {
     "name": "stdout",
     "output_type": "stream",
     "text": [
      "Informe um email ?\n"
     ]
    },
    {
     "name": "stdin",
     "output_type": "stream",
     "text": [
      " rafel.fernandes@gmail.com\n"
     ]
    },
    {
     "name": "stdout",
     "output_type": "stream",
     "text": [
      "\n",
      "\n",
      "O dominio informadoi foi, gmail.com.\n"
     ]
    }
   ],
   "source": [
    "print(\"Informe um email ?\")\n",
    "email=input()\n",
    "dominio = email.split(\"@\")[-1]\n",
    "print(\"\\n\")\n",
    "print(\"O dominio informado foi, {}.\".format(dominio))"
   ]
  },
  {
   "cell_type": "markdown",
   "metadata": {},
   "source": [
    "### Exercício 4 \n",
    "Faça um programa para uma loja de tintas. A pessoa informa a área em m2 que deseja pintar, e o script calculará a quantidade de latas de tinta que a pessoa deve comprar e o valor. Considere que cada litro de tinta pinta 3m2, que cada lata contém 18L e que custa R$ 80."
   ]
  },
  {
   "cell_type": "code",
   "execution_count": 12,
   "metadata": {},
   "outputs": [
    {
     "name": "stdout",
     "output_type": "stream",
     "text": [
      "Bemvindo a loja de tintas.\n",
      "Informe a area que deseja pintar:\n"
     ]
    },
    {
     "name": "stdin",
     "output_type": "stream",
     "text": [
      " 180\n"
     ]
    },
    {
     "name": "stdout",
     "output_type": "stream",
     "text": [
      "Voce precisara de 3 latas e elas custarao 240 reais.\n"
     ]
    }
   ],
   "source": [
    "print(\"Bem vindo a loja de tintas.\")\n",
    "print(\"Informe a area que deseja pintar:\")\n",
    "area = float(input())\n",
    "\n",
    "volume_necessario = area / 3\n",
    "latas = int(volume_necessario / 18)\n",
    "custo = latas * 80\n",
    "\n",
    "\n",
    "print(\"Voce precisara de {} latas e elas custarao {} reais.\".format(latas, custo))"
   ]
  },
  {
   "cell_type": "markdown",
   "metadata": {},
   "source": [
    "### Exercício 5\n",
    "Faça um Programa que pergunte quanto você ganha por hora e o número de horas trabalhadas no mês. Calcule e mostre o total do seu salário no referido mês, sabendo-se que são descontados 11% para o Imposto de Renda, 8% para o INSS e 5% para o sindicato, faça um programa que nos dê:\n",
    "1. Salário bruto.\n",
    "2. Quanto pagou ao INSS.\n",
    "3. Quanto pagou ao sindicato.\n",
    "4. O salário líquido."
   ]
  },
  {
   "cell_type": "code",
   "execution_count": 15,
   "metadata": {},
   "outputs": [
    {
     "name": "stdout",
     "output_type": "stream",
     "text": [
      "Calculadora de salarios\n",
      "Informe sua remuneracao por horas:\n"
     ]
    },
    {
     "name": "stdin",
     "output_type": "stream",
     "text": [
      " 380\n"
     ]
    },
    {
     "name": "stdout",
     "output_type": "stream",
     "text": [
      "Informe quatas horas trabalhou por mes:\n"
     ]
    },
    {
     "name": "stdin",
     "output_type": "stream",
     "text": [
      " 220\n"
     ]
    },
    {
     "name": "stdout",
     "output_type": "stream",
     "text": [
      "=======================\n",
      "1. Salario Bruto: R% 83600.00\n",
      "2. Valor pago de IR: R% 9196.00\n",
      "3. Valor pago de INSS: R% 5952.32\n",
      "4. Valor pago ao sindicato: R% 3422.58\n",
      "5. Salario Liquido: R% 65029.10\n"
     ]
    }
   ],
   "source": [
    "print(\"Calculadora de salarios\")\n",
    "print(\"Informe sua remuneracao por horas:\")\n",
    "valor_por_hora = float(input())\n",
    "\n",
    "print(\"Informe quatas horas trabalhou por mes:\")\n",
    "horas_trabalhadas = float(input())\n",
    "\n",
    "salario = valor_por_hora * horas_trabalhadas\n",
    "ir = salario * 0.11\n",
    "inss = (salario-ir)* 0.08\n",
    "sindicato = (salario-ir-inss) * 0.05\n",
    "\n",
    "print(\"=======================\")\n",
    "print(\"1. Salario Bruto: R% {:.2f}\".format(salario))\n",
    "print(\"2. Valor pago de IR: R% {:.2f}\".format(ir))\n",
    "print(\"3. Valor pago de INSS: R% {:.2f}\".format(inss))\n",
    "print(\"4. Valor pago ao sindicato: R% {:.2f}\".format(sindicato))\n",
    "print(\"5. Salario Liquido: R% {:.2f}\".format(salario - ir - inss - sindicato))"
   ]
  },
  {
   "cell_type": "code",
   "execution_count": null,
   "metadata": {},
   "outputs": [],
   "source": []
  }
 ],
 "metadata": {
  "kernelspec": {
   "display_name": "Python 3 (ipykernel)",
   "language": "python",
   "name": "python3"
  },
  "language_info": {
   "codemirror_mode": {
    "name": "ipython",
    "version": 3
   },
   "file_extension": ".py",
   "mimetype": "text/x-python",
   "name": "python",
   "nbconvert_exporter": "python",
   "pygments_lexer": "ipython3",
   "version": "3.9.12"
  }
 },
 "nbformat": 4,
 "nbformat_minor": 4
}
